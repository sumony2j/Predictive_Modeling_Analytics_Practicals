{
 "cells": [
  {
   "cell_type": "markdown",
   "id": "b84879ff",
   "metadata": {},
   "source": [
    "## Practical - 5\n",
    "\n",
    "## Autocorrelation\n",
    "\n",
    "## Problem"
   ]
  },
  {
   "attachments": {
    "Prac-5.png": {
     "image/png": "[encoded data removed]"
    }
   },
   "cell_type": "markdown",
   "id": "c74c6cf4",
   "metadata": {},
   "source": [
    "![Prac-5.png](attachment:Prac-5.png)"
   ]
  },
  {
   "attachments": {
    "Practical%205%20%281%29_html_340f304fde01c84f.gif": {
     "image/gif": "[encoded data removed]"
    }
   },
   "cell_type": "markdown",
   "id": "538364b3",
   "metadata": {},
   "source": [
    "![Practical%205%20%281%29_html_340f304fde01c84f.gif](attachment:Practical%205%20%281%29_html_340f304fde01c84f.gif)"
   ]
  },
  {
   "cell_type": "markdown",
   "id": "2335470c",
   "metadata": {},
   "source": [
    "## Libraries"
   ]
  },
  {
   "cell_type": "code",
   "execution_count": 23,
   "id": "2c6004eb",
   "metadata": {},
   "outputs": [],
   "source": [
    "import statsmodels.api as sm\n",
    "from statsmodels.graphics import tsaplots\n",
    "import matplotlib.pyplot as plt\n",
    "import pandas as pd"
   ]
  },
  {
   "cell_type": "markdown",
   "id": "bca1d0a1",
   "metadata": {},
   "source": [
    "## Code"
   ]
  },
  {
   "cell_type": "code",
   "execution_count": 24,
   "id": "be36d4fb",
   "metadata": {},
   "outputs": [],
   "source": [
    "data = [9.08,12.63,15,20.73,2.2,18,7.16,18.28,21,19.68,15.54,\n",
    "       24,16.1,11.93,27,12.51,20.04,30,12.41,14.33,33,22.11,\n",
    "       17.91,36]"
   ]
  },
  {
   "cell_type": "code",
   "execution_count": 25,
   "id": "706e0c5d",
   "metadata": {},
   "outputs": [],
   "source": [
    "df = pd.DataFrame({'Original_Data':data})"
   ]
  },
  {
   "cell_type": "code",
   "execution_count": 26,
   "id": "6899997b",
   "metadata": {},
   "outputs": [],
   "source": [
    "One_Unit_Lag = df.shift(1,axis=0)"
   ]
  },
  {
   "cell_type": "code",
   "execution_count": 27,
   "id": "676b7100",
   "metadata": {},
   "outputs": [],
   "source": [
    "Second_Unit_Lag = df.shift(2,axis=0)"
   ]
  },
  {
   "cell_type": "code",
   "execution_count": 28,
   "id": "14a28091",
   "metadata": {},
   "outputs": [],
   "source": [
    "Third_Unit_Lag = df.shift(3,axis=0)"
   ]
  },
  {
   "cell_type": "code",
   "execution_count": 29,
   "id": "1ea136ad",
   "metadata": {},
   "outputs": [],
   "source": [
    "df['1_Unit_Lag'] = One_Unit_Lag\n",
    "df['2_Unit_Lag'] = Second_Unit_Lag\n",
    "df['3_Unit_Lag'] = Third_Unit_Lag"
   ]
  },
  {
   "cell_type": "code",
   "execution_count": 30,
   "id": "36024310",
   "metadata": {},
   "outputs": [
    {
     "data": {
      "text/html": [
       "<div>\n",
       "<style scoped>\n",
       "    .dataframe tbody tr th:only-of-type {\n",
       "        vertical-align: middle;\n",
       "    }\n",
       "\n",
       "    .dataframe tbody tr th {\n",
       "        vertical-align: top;\n",
       "    }\n",
       "\n",
       "    .dataframe thead th {\n",
       "        text-align: right;\n",
       "    }\n",
       "</style>\n",
       "<table border=\"1\" class=\"dataframe\">\n",
       "  <thead>\n",
       "    <tr style=\"text-align: right;\">\n",
       "      <th></th>\n",
       "      <th>Original_Data</th>\n",
       "      <th>1_Unit_Lag</th>\n",
       "      <th>2_Unit_Lag</th>\n",
       "      <th>3_Unit_Lag</th>\n",
       "    </tr>\n",
       "  </thead>\n",
       "  <tbody>\n",
       "    <tr>\n",
       "      <th>0</th>\n",
       "      <td>9.08</td>\n",
       "      <td>NaN</td>\n",
       "      <td>NaN</td>\n",
       "      <td>NaN</td>\n",
       "    </tr>\n",
       "    <tr>\n",
       "      <th>1</th>\n",
       "      <td>12.63</td>\n",
       "      <td>9.08</td>\n",
       "      <td>NaN</td>\n",
       "      <td>NaN</td>\n",
       "    </tr>\n",
       "    <tr>\n",
       "      <th>2</th>\n",
       "      <td>15.00</td>\n",
       "      <td>12.63</td>\n",
       "      <td>9.08</td>\n",
       "      <td>NaN</td>\n",
       "    </tr>\n",
       "    <tr>\n",
       "      <th>3</th>\n",
       "      <td>20.73</td>\n",
       "      <td>15.00</td>\n",
       "      <td>12.63</td>\n",
       "      <td>9.08</td>\n",
       "    </tr>\n",
       "    <tr>\n",
       "      <th>4</th>\n",
       "      <td>2.20</td>\n",
       "      <td>20.73</td>\n",
       "      <td>15.00</td>\n",
       "      <td>12.63</td>\n",
       "    </tr>\n",
       "    <tr>\n",
       "      <th>5</th>\n",
       "      <td>18.00</td>\n",
       "      <td>2.20</td>\n",
       "      <td>20.73</td>\n",
       "      <td>15.00</td>\n",
       "    </tr>\n",
       "    <tr>\n",
       "      <th>6</th>\n",
       "      <td>7.16</td>\n",
       "      <td>18.00</td>\n",
       "      <td>2.20</td>\n",
       "      <td>20.73</td>\n",
       "    </tr>\n",
       "    <tr>\n",
       "      <th>7</th>\n",
       "      <td>18.28</td>\n",
       "      <td>7.16</td>\n",
       "      <td>18.00</td>\n",
       "      <td>2.20</td>\n",
       "    </tr>\n",
       "    <tr>\n",
       "      <th>8</th>\n",
       "      <td>21.00</td>\n",
       "      <td>18.28</td>\n",
       "      <td>7.16</td>\n",
       "      <td>18.00</td>\n",
       "    </tr>\n",
       "    <tr>\n",
       "      <th>9</th>\n",
       "      <td>19.68</td>\n",
       "      <td>21.00</td>\n",
       "      <td>18.28</td>\n",
       "      <td>7.16</td>\n",
       "    </tr>\n",
       "    <tr>\n",
       "      <th>10</th>\n",
       "      <td>15.54</td>\n",
       "      <td>19.68</td>\n",
       "      <td>21.00</td>\n",
       "      <td>18.28</td>\n",
       "    </tr>\n",
       "    <tr>\n",
       "      <th>11</th>\n",
       "      <td>24.00</td>\n",
       "      <td>15.54</td>\n",
       "      <td>19.68</td>\n",
       "      <td>21.00</td>\n",
       "    </tr>\n",
       "    <tr>\n",
       "      <th>12</th>\n",
       "      <td>16.10</td>\n",
       "      <td>24.00</td>\n",
       "      <td>15.54</td>\n",
       "      <td>19.68</td>\n",
       "    </tr>\n",
       "    <tr>\n",
       "      <th>13</th>\n",
       "      <td>11.93</td>\n",
       "      <td>16.10</td>\n",
       "      <td>24.00</td>\n",
       "      <td>15.54</td>\n",
       "    </tr>\n",
       "    <tr>\n",
       "      <th>14</th>\n",
       "      <td>27.00</td>\n",
       "      <td>11.93</td>\n",
       "      <td>16.10</td>\n",
       "      <td>24.00</td>\n",
       "    </tr>\n",
       "    <tr>\n",
       "      <th>15</th>\n",
       "      <td>12.51</td>\n",
       "      <td>27.00</td>\n",
       "      <td>11.93</td>\n",
       "      <td>16.10</td>\n",
       "    </tr>\n",
       "    <tr>\n",
       "      <th>16</th>\n",
       "      <td>20.04</td>\n",
       "      <td>12.51</td>\n",
       "      <td>27.00</td>\n",
       "      <td>11.93</td>\n",
       "    </tr>\n",
       "    <tr>\n",
       "      <th>17</th>\n",
       "      <td>30.00</td>\n",
       "      <td>20.04</td>\n",
       "      <td>12.51</td>\n",
       "      <td>27.00</td>\n",
       "    </tr>\n",
       "    <tr>\n",
       "      <th>18</th>\n",
       "      <td>12.41</td>\n",
       "      <td>30.00</td>\n",
       "      <td>20.04</td>\n",
       "      <td>12.51</td>\n",
       "    </tr>\n",
       "    <tr>\n",
       "      <th>19</th>\n",
       "      <td>14.33</td>\n",
       "      <td>12.41</td>\n",
       "      <td>30.00</td>\n",
       "      <td>20.04</td>\n",
       "    </tr>\n",
       "    <tr>\n",
       "      <th>20</th>\n",
       "      <td>33.00</td>\n",
       "      <td>14.33</td>\n",
       "      <td>12.41</td>\n",
       "      <td>30.00</td>\n",
       "    </tr>\n",
       "    <tr>\n",
       "      <th>21</th>\n",
       "      <td>22.11</td>\n",
       "      <td>33.00</td>\n",
       "      <td>14.33</td>\n",
       "      <td>12.41</td>\n",
       "    </tr>\n",
       "    <tr>\n",
       "      <th>22</th>\n",
       "      <td>17.91</td>\n",
       "      <td>22.11</td>\n",
       "      <td>33.00</td>\n",
       "      <td>14.33</td>\n",
       "    </tr>\n",
       "    <tr>\n",
       "      <th>23</th>\n",
       "      <td>36.00</td>\n",
       "      <td>17.91</td>\n",
       "      <td>22.11</td>\n",
       "      <td>33.00</td>\n",
       "    </tr>\n",
       "  </tbody>\n",
       "</table>\n",
       "</div>"
      ],
      "text/plain": [
       "    Original_Data  1_Unit_Lag  2_Unit_Lag  3_Unit_Lag\n",
       "0            9.08         NaN         NaN         NaN\n",
       "1           12.63        9.08         NaN         NaN\n",
       "2           15.00       12.63        9.08         NaN\n",
       "3           20.73       15.00       12.63        9.08\n",
       "4            2.20       20.73       15.00       12.63\n",
       "5           18.00        2.20       20.73       15.00\n",
       "6            7.16       18.00        2.20       20.73\n",
       "7           18.28        7.16       18.00        2.20\n",
       "8           21.00       18.28        7.16       18.00\n",
       "9           19.68       21.00       18.28        7.16\n",
       "10          15.54       19.68       21.00       18.28\n",
       "11          24.00       15.54       19.68       21.00\n",
       "12          16.10       24.00       15.54       19.68\n",
       "13          11.93       16.10       24.00       15.54\n",
       "14          27.00       11.93       16.10       24.00\n",
       "15          12.51       27.00       11.93       16.10\n",
       "16          20.04       12.51       27.00       11.93\n",
       "17          30.00       20.04       12.51       27.00\n",
       "18          12.41       30.00       20.04       12.51\n",
       "19          14.33       12.41       30.00       20.04\n",
       "20          33.00       14.33       12.41       30.00\n",
       "21          22.11       33.00       14.33       12.41\n",
       "22          17.91       22.11       33.00       14.33\n",
       "23          36.00       17.91       22.11       33.00"
      ]
     },
     "execution_count": 30,
     "metadata": {},
     "output_type": "execute_result"
    }
   ],
   "source": [
    "df"
   ]
  },
  {
   "cell_type": "code",
   "execution_count": 31,
   "id": "12a26bf1",
   "metadata": {},
   "outputs": [],
   "source": [
    "lag_no = 3"
   ]
  },
  {
   "cell_type": "code",
   "execution_count": 32,
   "id": "d30d2683",
   "metadata": {},
   "outputs": [
    {
     "data": {
      "text/plain": [
       "array([ 1.        , -0.0928397 ,  0.03872485,  0.44511117])"
      ]
     },
     "execution_count": 32,
     "metadata": {},
     "output_type": "execute_result"
    }
   ],
   "source": [
    "sm.tsa.acf(data,nlags=lag_no)"
   ]
  },
  {
   "cell_type": "code",
   "execution_count": 33,
   "id": "f5767335",
   "metadata": {},
   "outputs": [
    {
     "data": {
      "image/png": "[encoded data removed]",
      "text/plain": [
       "<Figure size 640x480 with 1 Axes>"
      ]
     },
     "metadata": {},
     "output_type": "display_data"
    }
   ],
   "source": [
    "fig = tsaplots.plot_acf(data,lags=lag_no)\n",
    "plt.show()"
   ]
  },
  {
   "cell_type": "markdown",
   "id": "e3073a57",
   "metadata": {},
   "source": [
    "## Autocorrelation for 3 lags is 0.44511117"
   ]
  }
 ],
 "metadata": {
  "kernelspec": {
   "display_name": "Python 3 (ipykernel)",
   "language": "python",
   "name": "python3"
  },
  "language_info": {
   "codemirror_mode": {
    "name": "ipython",
    "version": 3
   },
   "file_extension": ".py",
   "mimetype": "text/x-python",
   "name": "python",
   "nbconvert_exporter": "python",
   "pygments_lexer": "ipython3",
   "version": "3.10.6"
  }
 },
 "nbformat": 4,
 "nbformat_minor": 5
}
