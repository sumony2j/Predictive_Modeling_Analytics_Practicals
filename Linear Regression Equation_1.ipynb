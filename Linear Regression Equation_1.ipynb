{
 "cells": [
  {
   "cell_type": "markdown",
   "id": "868ce1a6",
   "metadata": {},
   "source": [
    "## Practical - 3\n",
    "\n",
    "## Linear Regression Equation\n",
    "\n",
    "## Problem"
   ]
  },
  {
   "attachments": {
    "Prac-3.png": {
     "image/png": "[encoded data removed]"
    }
   },
   "cell_type": "markdown",
   "id": "0a1afbfb",
   "metadata": {},
   "source": [
    "![Prac-3.png](attachment:Prac-3.png)"
   ]
  },
  {
   "cell_type": "markdown",
   "id": "b3d3277d",
   "metadata": {},
   "source": [
    "## Libraries"
   ]
  },
  {
   "cell_type": "code",
   "execution_count": 10,
   "id": "e610bfc6",
   "metadata": {},
   "outputs": [],
   "source": [
    "from sklearn.linear_model import LinearRegression\n",
    "import pandas as pd"
   ]
  },
  {
   "cell_type": "markdown",
   "id": "ca5f9ac0",
   "metadata": {},
   "source": [
    "## Code"
   ]
  },
  {
   "cell_type": "code",
   "execution_count": 11,
   "id": "dd0eea52",
   "metadata": {},
   "outputs": [],
   "source": [
    "x1 = [1.00,2.00,3.00,4.00,5.00,6.00,7.00,8.00]\n",
    "x2 = [4.00,12.00,16.00,8.00,32.00,24.00,20.00,28.00]\n",
    "y = [9.29,12.67,12.42,0.38,20.77,9.52,2.38,7.46]"
   ]
  },
  {
   "cell_type": "code",
   "execution_count": 12,
   "id": "72515efb",
   "metadata": {},
   "outputs": [],
   "source": [
    "df = pd.DataFrame({'X1':x1,'X2':x2,'Y':y})"
   ]
  },
  {
   "cell_type": "code",
   "execution_count": 13,
   "id": "5f2fbf8c",
   "metadata": {},
   "outputs": [
    {
     "data": {
      "text/html": [
       "<div>\n",
       "<style scoped>\n",
       "    .dataframe tbody tr th:only-of-type {\n",
       "        vertical-align: middle;\n",
       "    }\n",
       "\n",
       "    .dataframe tbody tr th {\n",
       "        vertical-align: top;\n",
       "    }\n",
       "\n",
       "    .dataframe thead th {\n",
       "        text-align: right;\n",
       "    }\n",
       "</style>\n",
       "<table border=\"1\" class=\"dataframe\">\n",
       "  <thead>\n",
       "    <tr style=\"text-align: right;\">\n",
       "      <th></th>\n",
       "      <th>X1</th>\n",
       "      <th>X2</th>\n",
       "      <th>Y</th>\n",
       "    </tr>\n",
       "  </thead>\n",
       "  <tbody>\n",
       "    <tr>\n",
       "      <th>0</th>\n",
       "      <td>1.0</td>\n",
       "      <td>4.0</td>\n",
       "      <td>9.29</td>\n",
       "    </tr>\n",
       "    <tr>\n",
       "      <th>1</th>\n",
       "      <td>2.0</td>\n",
       "      <td>12.0</td>\n",
       "      <td>12.67</td>\n",
       "    </tr>\n",
       "    <tr>\n",
       "      <th>2</th>\n",
       "      <td>3.0</td>\n",
       "      <td>16.0</td>\n",
       "      <td>12.42</td>\n",
       "    </tr>\n",
       "    <tr>\n",
       "      <th>3</th>\n",
       "      <td>4.0</td>\n",
       "      <td>8.0</td>\n",
       "      <td>0.38</td>\n",
       "    </tr>\n",
       "    <tr>\n",
       "      <th>4</th>\n",
       "      <td>5.0</td>\n",
       "      <td>32.0</td>\n",
       "      <td>20.77</td>\n",
       "    </tr>\n",
       "    <tr>\n",
       "      <th>5</th>\n",
       "      <td>6.0</td>\n",
       "      <td>24.0</td>\n",
       "      <td>9.52</td>\n",
       "    </tr>\n",
       "    <tr>\n",
       "      <th>6</th>\n",
       "      <td>7.0</td>\n",
       "      <td>20.0</td>\n",
       "      <td>2.38</td>\n",
       "    </tr>\n",
       "    <tr>\n",
       "      <th>7</th>\n",
       "      <td>8.0</td>\n",
       "      <td>28.0</td>\n",
       "      <td>7.46</td>\n",
       "    </tr>\n",
       "  </tbody>\n",
       "</table>\n",
       "</div>"
      ],
      "text/plain": [
       "    X1    X2      Y\n",
       "0  1.0   4.0   9.29\n",
       "1  2.0  12.0  12.67\n",
       "2  3.0  16.0  12.42\n",
       "3  4.0   8.0   0.38\n",
       "4  5.0  32.0  20.77\n",
       "5  6.0  24.0   9.52\n",
       "6  7.0  20.0   2.38\n",
       "7  8.0  28.0   7.46"
      ]
     },
     "execution_count": 13,
     "metadata": {},
     "output_type": "execute_result"
    }
   ],
   "source": [
    "df"
   ]
  },
  {
   "cell_type": "code",
   "execution_count": 14,
   "id": "b2320f83",
   "metadata": {},
   "outputs": [],
   "source": [
    "x= df[['X1','X2']]\n",
    "y = df['Y']"
   ]
  },
  {
   "cell_type": "code",
   "execution_count": 15,
   "id": "3cfd37d7",
   "metadata": {},
   "outputs": [],
   "source": [
    "lm = LinearRegression().fit(x,y)"
   ]
  },
  {
   "cell_type": "code",
   "execution_count": 16,
   "id": "d6067302",
   "metadata": {},
   "outputs": [
    {
     "data": {
      "text/plain": [
       "8.032533783783787"
      ]
     },
     "execution_count": 16,
     "metadata": {},
     "output_type": "execute_result"
    }
   ],
   "source": [
    "lm.intercept_"
   ]
  },
  {
   "cell_type": "code",
   "execution_count": 17,
   "id": "cf2506a4",
   "metadata": {},
   "outputs": [
    {
     "data": {
      "text/plain": [
       "array([-3.57336486,  0.96715878])"
      ]
     },
     "execution_count": 17,
     "metadata": {},
     "output_type": "execute_result"
    }
   ],
   "source": [
    "lm.coef_"
   ]
  },
  {
   "cell_type": "code",
   "execution_count": 18,
   "id": "f3a23be3",
   "metadata": {},
   "outputs": [
    {
     "name": "stdout",
     "output_type": "stream",
     "text": [
      "The estimated linear regression equation will be :- y = 8.032533783783787 + -3.573364864864868*x1 + 0.9671587837837844*x2\n"
     ]
    }
   ],
   "source": [
    "print(f'The estimated linear regression equation will be :- y = {lm.intercept_} + {lm.coef_[0]}*x1 + {lm.coef_[1]}*x2')"
   ]
  }
 ],
 "metadata": {
  "kernelspec": {
   "display_name": "Python 3 (ipykernel)",
   "language": "python",
   "name": "python3"
  },
  "language_info": {
   "codemirror_mode": {
    "name": "ipython",
    "version": 3
   },
   "file_extension": ".py",
   "mimetype": "text/x-python",
   "name": "python",
   "nbconvert_exporter": "python",
   "pygments_lexer": "ipython3",
   "version": "3.10.6"
  }
 },
 "nbformat": 4,
 "nbformat_minor": 5
}
